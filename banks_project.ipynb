{
 "cells": [
  {
   "cell_type": "markdown",
   "metadata": {},
   "source": [
    "# **Saylani Mass Training Program**\n",
    "### **Cloud Data Engineering Module by Faizan Ahmed**"
   ]
  },
  {
   "cell_type": "markdown",
   "metadata": {},
   "source": [
    "#### A basice Extract, Transform and Load (ETL) pipeline using web scrapping, pandas and sql"
   ]
  },
  {
   "cell_type": "markdown",
   "metadata": {},
   "source": [
    "#### Import necessary Libraries"
   ]
  },
  {
   "cell_type": "code",
   "execution_count": 1,
   "metadata": {},
   "outputs": [],
   "source": [
    "from io import StringIO\n",
    "import requests\n",
    "from bs4 import BeautifulSoup\n",
    "import pandas as pd\n",
    "import sqlite3\n",
    "from datetime import datetime\n",
    "# from icecream import ic"
   ]
  },
  {
   "cell_type": "markdown",
   "metadata": {},
   "source": [
    "#### Step 0: Maintaining a Log File\n",
    "This step is done to record the logs while performing ETL and it is not neccessary in an ETL Pipeline"
   ]
  },
  {
   "cell_type": "code",
   "execution_count": 2,
   "metadata": {},
   "outputs": [],
   "source": [
    "def log_progress(message):\n",
    "    \"\"\"This function logs the mentioned message of a given stage of the\n",
    "    code execution to a log file. Function returns nothing\"\"\"\n",
    "\n",
    "    with open('./logs/code_log.txt', 'a') as f:\n",
    "        f.write(f'{datetime.now()}: {message}\\n')"
   ]
  },
  {
   "cell_type": "markdown",
   "metadata": {},
   "source": [
    "#### Step 1: Extract"
   ]
  },
  {
   "cell_type": "code",
   "execution_count": 3,
   "metadata": {},
   "outputs": [],
   "source": [
    "def extract(url, table_attribs):\n",
    "    \"\"\" This function aims to extract the required\n",
    "    information from the website and save it to a data frame. The\n",
    "    function returns the data frame for further processing. \"\"\"\n",
    "\n",
    "    soup = BeautifulSoup(requests.get(url).text, 'html.parser')\n",
    "    table = soup.find('span', string=table_attribs).find_next('table')\n",
    "    df = pd.read_html(StringIO(str(table)))[0]\n",
    "\n",
    "    log_progress('Data extraction complete. Initiating Transformation process')\n",
    "\n",
    "    return df"
   ]
  },
  {
   "cell_type": "markdown",
   "metadata": {},
   "source": [
    "#### Step 2: Transform"
   ]
  },
  {
   "cell_type": "code",
<<<<<<< HEAD
<<<<<<< HEAD
<<<<<<< Updated upstream
   "execution_count": 6,
=======
   "execution_count": 4,
>>>>>>> Stashed changes
=======
   "execution_count": 4,
>>>>>>> dev_branch
=======
   "execution_count": 4,
>>>>>>> dev_branch
   "metadata": {},
   "outputs": [],
   "source": [
    "def transform(df, csv_path):\n",
    "    \"\"\" This function accesses the CSV file for exchange rate\n",
    "    information, and adds three columns to the data frame, each\n",
    "    containing the transformed version of Market Cap column to\n",
    "    respective currencies\"\"\"\n",
    "\n",
    "    exchange_rate = pd.read_csv(csv_path, index_col=0).to_dict()['Rate']\n",
    "\n",
    "    df['MC_GBP_Billion'] = round(df['Total assets (2023) (US$ billion)'] * exchange_rate['GBP'], 2)\n",
    "    df['MC_EUR_Billion'] = round(df['Total assets (2023) (US$ billion)'] * exchange_rate['EUR'], 2)\n",
    "    df['MC_INR_Billion'] = round(df['Total assets (2023) (US$ billion)'] * exchange_rate['INR'], 2)\n",
    "\n",
    "    print(df)\n",
    "\n",
    "    log_progress('Data transformation complete. Initiating Loading process')\n",
    "\n",
    "    return df"
   ]
  },
  {
   "cell_type": "markdown",
   "metadata": {},
   "source": [
    "#### Step 3: Load"
   ]
  },
  {
   "cell_type": "markdown",
   "metadata": {},
   "source": [
    "Loading data to a CSV"
   ]
  },
  {
   "cell_type": "code",
<<<<<<< HEAD
<<<<<<< HEAD
<<<<<<< Updated upstream
   "execution_count": 7,
=======
   "execution_count": 5,
>>>>>>> Stashed changes
=======
   "execution_count": 5,
>>>>>>> dev_branch
=======
   "execution_count": 5,
>>>>>>> dev_branch
   "metadata": {},
   "outputs": [],
   "source": [
    "def load_to_csv(df, output_path):\n",
    "    \"\"\" This function saves the final data frame as a CSV file in\n",
    "    the provided path. Function returns nothing.\"\"\"\n",
    "\n",
    "    df.to_csv(output_path)\n",
    "\n",
    "    log_progress('Data saved to CSV file')"
   ]
  },
  {
   "cell_type": "markdown",
   "metadata": {},
   "source": [
    "Loading data to SQL"
   ]
  },
  {
   "cell_type": "code",
<<<<<<< HEAD
<<<<<<< HEAD
<<<<<<< Updated upstream
   "execution_count": 8,
=======
   "execution_count": 6,
>>>>>>> Stashed changes
=======
   "execution_count": 6,
>>>>>>> dev_branch
=======
   "execution_count": 6,
>>>>>>> dev_branch
   "metadata": {},
   "outputs": [],
   "source": [
    "def load_to_db(df, sql_connection, table_name):\n",
    "    \"\"\" This function saves the final data frame to a database\n",
    "    table with the provided name. Function returns nothing.\"\"\"\n",
    "\n",
    "    df.to_sql(table_name, sql_connection, if_exists='replace', index=False)\n",
    "\n",
    "    log_progress('Data loaded to Database as a table, Executing queries')"
   ]
  },
  {
   "cell_type": "code",
<<<<<<< HEAD
<<<<<<< HEAD
<<<<<<< Updated upstream
   "execution_count": 9,
=======
   "execution_count": 7,
>>>>>>> Stashed changes
=======
   "execution_count": 7,
>>>>>>> dev_branch
=======
   "execution_count": 7,
>>>>>>> dev_branch
   "metadata": {},
   "outputs": [],
   "source": [
    "def run_query(query_statement, sql_connection):\n",
    "    \"\"\" This function runs the query on the database table and\n",
    "    prints the output on the terminal. Function returns nothing. \"\"\"\n",
    "\n",
    "    cursor = sql_connection.cursor()\n",
    "    cursor.execute(query_statement)\n",
    "    result = cursor.fetchall()\n",
    "\n",
    "    log_progress('Process Complete')\n",
    "\n",
    "    return result"
   ]
  },
  {
   "cell_type": "markdown",
   "metadata": {},
   "source": [
    "#### Step 4:Performing Analytics"
   ]
  },
  {
   "cell_type": "code",
   "execution_count": 8,
   "metadata": {},
   "outputs": [],
   "source": [
    "import matplotlib.pyplot as plt\n",
    "\n",
    "def perform_analytics(db_name, query):\n",
    "    \"\"\"\n",
    "    Connects to the SQLite database, executes the given query, and returns the result as a DataFrame.\n",
    "    Also performs basic analytics and generates plots.\n",
    "\n",
    "    Parameters:\n",
    "    db_name (str): The name of the SQLite database file.\n",
    "    query (str): The SQL query to be executed.\n",
    "\n",
    "    Returns:\n",
    "    pd.DataFrame: The result of the query as a DataFrame.\n",
    "    \"\"\"\n",
    "    log_progress('Doing Analytics')\n",
    "    try:\n",
    "        # Connect to the SQLite database\n",
    "        conn = sqlite3.connect(db_name)\n",
    "        \n",
    "        # Execute the query and fetch the result\n",
    "        result = pd.read_sql_query(query, conn)\n",
    "        log_progress('Red the sql query')\n",
    "        # Close the connection\n",
    "        conn.close()\n",
    "        \n",
    "        # Plotting the biggest banks by market cap\n",
    "        result.sort_values(by='Total assets (2023) (US$ billion)', ascending=False).head(20).plot(\n",
    "            x='Bank name', y='Total assets (2023) (US$ billion)', kind='bar', title='Top 20 Banks by Market Cap')\n",
    "        plt.show()\n",
    "        \n",
    "       \n",
    "        # Plotting banks according to growth in market cap\n",
    "        log_progress('Process Complete returning to main')\n",
    "        return result\n",
    "    except Exception as e:\n",
    "        print(f\"An error occurred: {e}\")\n",
    "        return None\n"
   ]
  },
  {
   "cell_type": "markdown",
   "metadata": {},
   "source": [
    "### Executing Pipeline"
   ]
  },
  {
   "cell_type": "code",
<<<<<<< HEAD
<<<<<<< HEAD
<<<<<<< Updated upstream
   "execution_count": 10,
=======
   "execution_count": 9,
>>>>>>> dev_branch
=======
   "execution_count": 9,
>>>>>>> dev_branch
   "metadata": {},
   "outputs": [
    {
     "name": "stdout",
     "output_type": "stream",
     "text": [
      "    Rank                                Bank name  \\\n",
      "0      1  Industrial and Commercial Bank of China   \n",
      "1      2               Agricultural Bank of China   \n",
      "2      3                  China Construction Bank   \n",
      "3      4                            Bank of China   \n",
      "4      5                           JPMorgan Chase   \n",
      "..   ...                                      ...   \n",
      "95    96                            Handelsbanken   \n",
      "96    97                 Industrial Bank of Korea   \n",
      "97    98                                      DNB   \n",
      "98    99                      Qatar National Bank   \n",
      "99   100                                 VTB Bank   \n",
      "\n",
      "    Total assets (2023) (US$ billion)  MC_GBP_Billion  MC_EUR_Billion  \\\n",
      "0                             6303.44         5042.75         6114.34   \n",
      "1                             5623.12         4498.50         5454.43   \n",
      "2                             5400.28         4320.22         5238.27   \n",
      "3                             4578.28         3662.62         4440.93   \n",
      "4                             3875.39         3100.31         3759.13   \n",
      "..                                ...             ...             ...   \n",
      "95                             351.79          281.43          341.24   \n",
      "96                             345.81          276.65          335.44   \n",
      "97                             339.21          271.37          329.03   \n",
      "98                             338.14          270.51          328.00   \n",
      "99                             326.85          261.48          317.04   \n",
      "\n",
      "    MC_INR_Billion  \n",
      "0        535792.40  \n",
      "1        477965.20  \n",
      "2        459023.80  \n",
      "3        389153.80  \n",
      "4        329408.15  \n",
      "..             ...  \n",
      "95        29902.15  \n",
      "96        29393.85  \n",
      "97        28832.85  \n",
      "98        28741.90  \n",
      "99        27782.25  \n",
      "\n",
      "[100 rows x 6 columns]\n",
      "[(1, 'Industrial and Commercial Bank of China', 6303.44, 5042.75, 6114.34, 535792.4), (2, 'Agricultural Bank of China', 5623.12, 4498.5, 5454.43, 477965.2), (3, 'China Construction Bank', 5400.28, 4320.22, 5238.27, 459023.8), (4, 'Bank of China', 4578.28, 3662.62, 4440.93, 389153.8), (5, 'JPMorgan Chase', 3875.39, 3100.31, 3759.13, 329408.15), (6, 'Bank of America', 3180.15, 2544.12, 3084.75, 270312.75), (7, 'HSBC', 2919.84, 2335.87, 2832.24, 248186.4), (8, 'BNP Paribas', 2867.44, 2293.95, 2781.42, 243732.4), (9, 'Mitsubishi UFJ Financial Group', 2816.77, 2253.42, 2732.27, 239425.45), (10, 'Crédit Agricole', 2736.95, 2189.56, 2654.84, 232640.75), (11, 'Postal Savings Bank of China', 2217.86, 1774.29, 2151.32, 188518.1), (12, 'Citigroup', 2200.83, 1760.66, 2134.81, 187070.55), (13, 'SMBC Group', 2027.34, 1621.87, 1966.52, 172323.9), (14, 'Banco Santander', 1986.36, 1589.09, 1926.77, 168840.6), (15, 'Bank of Communications', 1982.89, 1586.31, 1923.4, 168545.65), (16, 'Wells Fargo', 1932.47, 1545.98, 1874.5, 164259.95), (17, 'Mizuho Financial Group', 1923.56, 1538.85, 1865.85, 163502.6), (18, 'Barclays', 1891.72, 1513.38, 1834.97, 160796.2), (19, 'Société Générale', 1717.49, 1373.99, 1665.97, 145986.65), (20, 'UBS', 1717.25, 1373.8, 1665.73, 145966.25), (21, 'Groupe BPCE', 1706.8, 1365.44, 1655.6, 145078.0), (22, 'Goldman Sachs', 1641.59, 1313.27, 1592.34, 139535.15), (23, 'Japan Post Bank', 1625.6, 1300.48, 1576.83, 138176.0), (24, 'Royal Bank of Canada', 1566.41, 1253.13, 1519.42, 133144.85), (25, 'China Merchants Bank', 1555.3, 1244.24, 1508.64, 132200.5), (26, 'Deutsche Bank', 1450.57, 1160.46, 1407.05, 123298.45), (27, 'Industrial Bank (China)', 1432.59, 1146.07, 1389.61, 121770.15), (28, 'Toronto-Dominion Bank', 1428.29, 1142.63, 1385.44, 121404.65), (29, 'China CITIC Bank', 1276.63, 1021.3, 1238.33, 108513.55), (30, 'Crédit Mutuel', 1262.95, 1010.36, 1225.06, 107350.75), (31, 'Shanghai Pudong Development Bank', 1207.18, 965.74, 1170.96, 102610.3), (32, 'Morgan Stanley', 1193.69, 954.95, 1157.88, 101463.65), (33, 'Lloyds Banking Group', 1122.76, 898.21, 1089.08, 95434.6), (34, 'China Minsheng Bank', 1082.37, 865.9, 1049.9, 92001.45), (35, 'ING Group', 1078.35, 862.68, 1046.0, 91659.75), (36, 'Intesa Sanpaolo', 1066.74, 853.39, 1034.74, 90672.9), (37, 'Scotiabank', 1041.11, 832.89, 1009.88, 88494.35), (38, 'Bank of Montreal', 990.19, 792.15, 960.48, 84166.15), (39, 'China Everbright Bank', 955.14, 764.11, 926.49, 81186.9), (40, 'NatWest Group', 882.3, 705.84, 855.83, 74995.5), (41, 'UniCredit', 872.9, 698.32, 846.71, 74196.5), (42, 'Commonwealth Bank', 868.74, 694.99, 842.68, 73842.9), (43, 'Banco Bilbao Vizcaya Argentaria', 857.25, 685.8, 831.53, 72866.25), (44, 'Standard Chartered', 822.84, 658.27, 798.15, 69941.4), (45, 'La Banque postale', 815.91, 652.73, 791.43, 69352.35), (46, 'Ping An Bank', 787.93, 630.34, 764.29, 66974.05), (47, 'State Bank of India', 780.05, 624.04, 756.65, 66304.25), (48, 'ANZ Group', 769.59, 615.67, 746.5, 65415.15), (49, 'Canadian Imperial Bank of Commerce', 726.27, 581.02, 704.48, 61732.95), (50, 'DZ Bank', 712.49, 569.99, 691.12, 60561.65), (51, 'Norinchukin Bank', 702.03, 561.62, 680.97, 59672.55), (52, 'National Australia Bank', 683.41, 546.73, 662.91, 58089.85), (53, 'Rabobank', 678.45, 542.76, 658.1, 57668.25), (54, 'CaixaBank', 671.13, 536.9, 651.0, 57046.05), (55, 'Westpac', 664.5, 531.6, 644.56, 56482.5), (56, 'U.S. Bancorp', 663.49, 530.79, 643.59, 56396.65), (57, 'Nordea', 662.71, 530.17, 642.83, 56330.35), (58, 'Capital One', 629.99, 503.99, 611.09, 53549.15), (59, 'Sberbank of Russia', 581.88, 465.5, 564.42, 49459.8), (60, 'Commerzbank', 571.64, 457.31, 554.49, 48589.4), (61, 'Huaxia Bank', 562.58, 450.06, 545.7, 47819.3), (62, 'PNC Financial Services', 561.58, 449.26, 544.73, 47734.3), (63, 'DBS Group', 560.1, 448.08, 543.3, 47608.5), (64, 'Itaú Unibanco', 555.72, 444.58, 539.05, 47236.2), (65, 'KB Financial Group', 551.94, 441.55, 535.38, 46914.9), (66, 'Danske Bank', 542.81, 434.25, 526.53, 46138.85), (67, 'Truist Financial Corp', 535.35, 428.28, 519.29, 45504.75), (68, 'Shinhan Financial Group', 533.48, 426.78, 517.48, 45345.8), (69, 'Resona Holdings', 527.53, 422.02, 511.7, 44840.05), (70, 'Sumitomo Mitsui Trust Holdings', 520.34, 416.27, 504.73, 44228.9), (71, 'Bank of Beijing', 503.31, 402.65, 488.21, 42781.35), (72, 'China Guangfa Bank', 495.55, 396.44, 480.68, 42121.75), (73, 'Charles Schwab Corporation', 493.18, 394.54, 478.38, 41920.3), (74, 'HDFC Bank', 464.34, 371.47, 450.41, 39468.9), (75, 'Bank of Jiangsu', 457.25, 365.8, 443.53, 38866.25), (76, 'Hana Financial Group', 456.47, 365.18, 442.78, 38799.95), (77, 'Banco do Brasil', 447.72, 358.18, 434.29, 38056.2), (78, 'Nationwide Building Society', 446.95, 357.56, 433.54, 37990.75), (79, 'China Zheshang Bank', 443.37, 354.7, 430.07, 37686.45), (80, 'Oversea-Chinese Banking Corporation', 441.53, 353.22, 428.28, 37530.05), (81, 'Bank of Shanghai', 435.14, 348.11, 422.09, 36986.9), (82, 'ABN AMRO', 417.72, 334.18, 405.19, 35506.2), (83, 'BNY', 409.88, 327.9, 397.58, 34839.8), (84, 'United Overseas Bank', 396.62, 317.3, 384.72, 33712.7), (85, 'Banco Bradesco', 394.76, 315.81, 382.92, 33554.6), (86, 'Nonghyup Bank', 394.46, 315.57, 382.63, 33529.1), (87, 'Nomura Holdings', 388.42, 310.74, 376.77, 33015.7), (88, 'Woori Financial Group', 384.04, 307.23, 372.52, 32643.4), (89, 'KBC Group', 383.47, 306.78, 371.97, 32594.95), (90, 'Caixa Econômica Federal', 377.29, 301.83, 365.97, 32069.65), (91, 'Erste Group', 372.67, 298.14, 361.49, 31676.95), (92, 'Landesbank Baden-Württemberg', 368.41, 294.73, 357.36, 31314.85), (93, 'Bank of Ningbo', 365.96, 292.77, 354.98, 31106.6), (94, 'SEB Group', 358.79, 287.03, 348.03, 30497.15), (95, 'Raiffeisen Group', 352.87, 282.3, 342.28, 29993.95), (96, 'Handelsbanken', 351.79, 281.43, 341.24, 29902.15), (97, 'Industrial Bank of Korea', 345.81, 276.65, 335.44, 29393.85), (98, 'DNB', 339.21, 271.37, 329.03, 28832.85), (99, 'Qatar National Bank', 338.14, 270.51, 328.0, 28741.9), (100, 'VTB Bank', 326.85, 261.48, 317.04, 27782.25)]\n",
      "[(940.7405,)]\n",
      "[('Industrial and Commercial Bank of China',), ('Agricultural Bank of China',), ('China Construction Bank',), ('Bank of China',), ('JPMorgan Chase',)]\n"
     ]
    },
    {
     "data": {
      "image/png": "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",
      "text/plain": [
       "<Figure size 640x480 with 1 Axes>"
      ]
     },
     "metadata": {},
     "output_type": "display_data"
    },
    {
     "name": "stdout",
     "output_type": "stream",
     "text": [
      "    Rank                                Bank name  \\\n",
      "0      1  Industrial and Commercial Bank of China   \n",
      "1      2               Agricultural Bank of China   \n",
      "2      3                  China Construction Bank   \n",
      "3      4                            Bank of China   \n",
      "4      5                           JPMorgan Chase   \n",
      "5      6                          Bank of America   \n",
      "6      7                                     HSBC   \n",
      "7      8                              BNP Paribas   \n",
      "8      9           Mitsubishi UFJ Financial Group   \n",
      "9     10                          Crédit Agricole   \n",
      "10    11             Postal Savings Bank of China   \n",
      "11    12                                Citigroup   \n",
      "12    13                               SMBC Group   \n",
      "13    14                          Banco Santander   \n",
      "14    15                   Bank of Communications   \n",
      "15    16                              Wells Fargo   \n",
      "16    17                   Mizuho Financial Group   \n",
      "17    18                                 Barclays   \n",
      "18    19                         Société Générale   \n",
      "19    20                                      UBS   \n",
      "\n",
      "    Total assets (2023) (US$ billion)  MC_GBP_Billion  MC_EUR_Billion  \\\n",
      "0                             6303.44         5042.75         6114.34   \n",
      "1                             5623.12         4498.50         5454.43   \n",
      "2                             5400.28         4320.22         5238.27   \n",
      "3                             4578.28         3662.62         4440.93   \n",
      "4                             3875.39         3100.31         3759.13   \n",
      "5                             3180.15         2544.12         3084.75   \n",
      "6                             2919.84         2335.87         2832.24   \n",
      "7                             2867.44         2293.95         2781.42   \n",
      "8                             2816.77         2253.42         2732.27   \n",
      "9                             2736.95         2189.56         2654.84   \n",
      "10                            2217.86         1774.29         2151.32   \n",
      "11                            2200.83         1760.66         2134.81   \n",
      "12                            2027.34         1621.87         1966.52   \n",
      "13                            1986.36         1589.09         1926.77   \n",
      "14                            1982.89         1586.31         1923.40   \n",
      "15                            1932.47         1545.98         1874.50   \n",
      "16                            1923.56         1538.85         1865.85   \n",
      "17                            1891.72         1513.38         1834.97   \n",
      "18                            1717.49         1373.99         1665.97   \n",
      "19                            1717.25         1373.80         1665.73   \n",
      "\n",
      "    MC_INR_Billion  \n",
      "0        535792.40  \n",
      "1        477965.20  \n",
      "2        459023.80  \n",
      "3        389153.80  \n",
      "4        329408.15  \n",
      "5        270312.75  \n",
      "6        248186.40  \n",
      "7        243732.40  \n",
      "8        239425.45  \n",
      "9        232640.75  \n",
      "10       188518.10  \n",
      "11       187070.55  \n",
      "12       172323.90  \n",
      "13       168840.60  \n",
      "14       168545.65  \n",
      "15       164259.95  \n",
      "16       163502.60  \n",
      "17       160796.20  \n",
      "18       145986.65  \n",
      "19       145966.25  \n"
     ]
    }
   ],
   "source": [
    "if __name__ == '__main__':\n",
    "    # url = 'https://web.archive.org/web/20230908091635/https://en.wikipedia.org/wiki/List_of_largest_banks'\n",
    "    url = 'https://en.wikipedia.org/wiki/List_of_largest_banks'\n",
    "    output_csv_path = './output/Largest_banks_data.csv'\n",
    "    database_name = './output/Banks.db'\n",
    "    table_name = 'Largest_banks'\n",
    "    \n",
    "    log_progress('Preliminaries complete. Initiating ETL process')\n",
    "\n",
    "    df = extract(url, 'By market capitalization')\n",
    "\n",
    "    transform(df, './input/exchange_rate.csv')\n",
    "\n",
    "    load_to_csv(df, output_csv_path)\n",
    "\n",
    "    with sqlite3.connect(database_name) as conn:\n",
    "        load_to_db(df, conn, table_name)\n",
    "\n",
    "        print(run_query('SELECT * FROM Largest_banks', conn))\n",
    "\n",
    "        print(run_query('SELECT AVG(MC_GBP_Billion) FROM Largest_banks', conn))\n",
    "\n",
    "        print(run_query('SELECT \"Bank name\" FROM Largest_banks LIMIT 5', conn))\n",
    "\n",
    "    # Perform analytics\n",
    "    query = 'SELECT * FROM Largest_banks WHERE MC_GBP_Billion > 100 LIMIT 20'\n",
    "    analytics_result = perform_analytics(database_name, query)\n",
    "    if analytics_result is not None:\n",
    "        print(analytics_result)\n",
    "        log_progress(\"Analytics performed successfully.\")"
   ]
<<<<<<< HEAD
<<<<<<< HEAD
  },
  {
   "cell_type": "code",
   "execution_count": null,
=======
   "execution_count": 8,
>>>>>>> Stashed changes
   "metadata": {},
   "outputs": [],
   "source": [
    "import sqlite3\n",
    "import pandas as pd\n",
    "\n",
    "def perform_analytics(db_name, query):\n",
    "    \"\"\"\n",
    "    Connects to the SQLite database, executes the given query, and returns the result as a DataFrame.\n",
    "\n",
    "    Parameters:\n",
    "    db_name (str): The name of the SQLite database file.\n",
    "    query (str): The SQL query to be executed.\n",
    "\n",
    "    Returns:\n",
    "    pd.DataFrame: The result of the query as a DataFrame.\n",
    "    \"\"\"\n",
    "    log_progress('Doing Analytics')\n",
    "    try:\n",
    "        # Connect to the SQLite database\n",
    "        conn = sqlite3.connect(db_name)\n",
    "        \n",
    "        # Execute the query and fetch the result\n",
    "        result = pd.read_sql_query(query, conn)\n",
    "        log_progress('Red the sql query')\n",
    "        # Close the connection\n",
    "        conn.close()\n",
    "        \n",
<<<<<<< Updated upstream
    "        return result\n",
    "    except Exception as e:\n",
    "        print(f\"An error occurred: {e}\")\n",
    "        return None\n",
    "\n",
    "# Example usage\n",
    "if __name__ == \"__main__\":\n",
    "    db_name = 'banks_data.db'\n",
    "    query = 'SELECT * FROM banks WHERE Bank_Data > 1000'\n",
    "    result = perform_analytics(db_name, query)\n",
    "    if result is not None:\n",
    "        print(result)"
=======
    "        # Plotting the biggest banks by market cap\n",
    "        result.sort_values(by='Total assets (2023) (US$ billion)', ascending=False).head(10).plot(\n",
    "            x='Bank name', y='Total assets (2023) (US$ billion)', kind='bar', title='Top 10 Banks by Market Cap')\n",
    "        plt.show()\n",
    "        \n",
    "       \n",
    "        # Plotting banks according to growth in market cap\n",
    "        log_progress('Process Complete returning to main')\n",
    "        return result\n",
    "    except Exception as e:\n",
    "        print(f\"An error occurred: {e}\")\n",
    "        return None\n"
   ]
  },
  {
   "cell_type": "code",
   "execution_count": 9,
   "metadata": {},
   "outputs": [
    {
     "ename": "NameError",
     "evalue": "name 'df' is not defined",
     "output_type": "error",
     "traceback": [
      "\u001b[1;31m---------------------------------------------------------------------------\u001b[0m",
      "\u001b[1;31mNameError\u001b[0m                                 Traceback (most recent call last)",
      "Cell \u001b[1;32mIn[9], line 1\u001b[0m\n\u001b[1;32m----> 1\u001b[0m df\u001b[38;5;241m.\u001b[39mcolumns\n",
      "\u001b[1;31mNameError\u001b[0m: name 'df' is not defined"
     ]
    }
   ],
   "source": [
    "df.columns"
   ]
  },
  {
   "cell_type": "markdown",
   "metadata": {},
   "source": [
    "### Executing Pipeline"
>>>>>>> Stashed changes
   ]
  },
  {
   "cell_type": "code",
   "execution_count": 10,
<<<<<<< Updated upstream
=======
   "metadata": {},
   "outputs": [
    {
     "name": "stdout",
     "output_type": "stream",
     "text": [
      "    Rank                                Bank name  \\\n",
      "0      1  Industrial and Commercial Bank of China   \n",
      "1      2               Agricultural Bank of China   \n",
      "2      3                  China Construction Bank   \n",
      "3      4                            Bank of China   \n",
      "4      5                           JPMorgan Chase   \n",
      "..   ...                                      ...   \n",
      "95    96                            Handelsbanken   \n",
      "96    97                 Industrial Bank of Korea   \n",
      "97    98                                      DNB   \n",
      "98    99                      Qatar National Bank   \n",
      "99   100                                 VTB Bank   \n",
      "\n",
      "    Total assets (2023) (US$ billion)  MC_GBP_Billion  MC_EUR_Billion  \\\n",
      "0                             6303.44         5042.75         6114.34   \n",
      "1                             5623.12         4498.50         5454.43   \n",
      "2                             5400.28         4320.22         5238.27   \n",
      "3                             4578.28         3662.62         4440.93   \n",
      "4                             3875.39         3100.31         3759.13   \n",
      "..                                ...             ...             ...   \n",
      "95                             351.79          281.43          341.24   \n",
      "96                             345.81          276.65          335.44   \n",
      "97                             339.21          271.37          329.03   \n",
      "98                             338.14          270.51          328.00   \n",
      "99                             326.85          261.48          317.04   \n",
      "\n",
      "    MC_INR_Billion  \n",
      "0        535792.40  \n",
      "1        477965.20  \n",
      "2        459023.80  \n",
      "3        389153.80  \n",
      "4        329408.15  \n",
      "..             ...  \n",
      "95        29902.15  \n",
      "96        29393.85  \n",
      "97        28832.85  \n",
      "98        28741.90  \n",
      "99        27782.25  \n",
      "\n",
      "[100 rows x 6 columns]\n",
      "[(1, 'Industrial and Commercial Bank of China', 6303.44, 5042.75, 6114.34, 535792.4), (2, 'Agricultural Bank of China', 5623.12, 4498.5, 5454.43, 477965.2), (3, 'China Construction Bank', 5400.28, 4320.22, 5238.27, 459023.8), (4, 'Bank of China', 4578.28, 3662.62, 4440.93, 389153.8), (5, 'JPMorgan Chase', 3875.39, 3100.31, 3759.13, 329408.15), (6, 'Bank of America', 3180.15, 2544.12, 3084.75, 270312.75), (7, 'HSBC', 2919.84, 2335.87, 2832.24, 248186.4), (8, 'BNP Paribas', 2867.44, 2293.95, 2781.42, 243732.4), (9, 'Mitsubishi UFJ Financial Group', 2816.77, 2253.42, 2732.27, 239425.45), (10, 'Crédit Agricole', 2736.95, 2189.56, 2654.84, 232640.75), (11, 'Postal Savings Bank of China', 2217.86, 1774.29, 2151.32, 188518.1), (12, 'Citigroup', 2200.83, 1760.66, 2134.81, 187070.55), (13, 'SMBC Group', 2027.34, 1621.87, 1966.52, 172323.9), (14, 'Banco Santander', 1986.36, 1589.09, 1926.77, 168840.6), (15, 'Bank of Communications', 1982.89, 1586.31, 1923.4, 168545.65), (16, 'Wells Fargo', 1932.47, 1545.98, 1874.5, 164259.95), (17, 'Mizuho Financial Group', 1923.56, 1538.85, 1865.85, 163502.6), (18, 'Barclays', 1891.72, 1513.38, 1834.97, 160796.2), (19, 'Société Générale', 1717.49, 1373.99, 1665.97, 145986.65), (20, 'UBS', 1717.25, 1373.8, 1665.73, 145966.25), (21, 'Groupe BPCE', 1706.8, 1365.44, 1655.6, 145078.0), (22, 'Goldman Sachs', 1641.59, 1313.27, 1592.34, 139535.15), (23, 'Japan Post Bank', 1625.6, 1300.48, 1576.83, 138176.0), (24, 'Royal Bank of Canada', 1566.41, 1253.13, 1519.42, 133144.85), (25, 'China Merchants Bank', 1555.3, 1244.24, 1508.64, 132200.5), (26, 'Deutsche Bank', 1450.57, 1160.46, 1407.05, 123298.45), (27, 'Industrial Bank (China)', 1432.59, 1146.07, 1389.61, 121770.15), (28, 'Toronto-Dominion Bank', 1428.29, 1142.63, 1385.44, 121404.65), (29, 'China CITIC Bank', 1276.63, 1021.3, 1238.33, 108513.55), (30, 'Crédit Mutuel', 1262.95, 1010.36, 1225.06, 107350.75), (31, 'Shanghai Pudong Development Bank', 1207.18, 965.74, 1170.96, 102610.3), (32, 'Morgan Stanley', 1193.69, 954.95, 1157.88, 101463.65), (33, 'Lloyds Banking Group', 1122.76, 898.21, 1089.08, 95434.6), (34, 'China Minsheng Bank', 1082.37, 865.9, 1049.9, 92001.45), (35, 'ING Group', 1078.35, 862.68, 1046.0, 91659.75), (36, 'Intesa Sanpaolo', 1066.74, 853.39, 1034.74, 90672.9), (37, 'Scotiabank', 1041.11, 832.89, 1009.88, 88494.35), (38, 'Bank of Montreal', 990.19, 792.15, 960.48, 84166.15), (39, 'China Everbright Bank', 955.14, 764.11, 926.49, 81186.9), (40, 'NatWest Group', 882.3, 705.84, 855.83, 74995.5), (41, 'UniCredit', 872.9, 698.32, 846.71, 74196.5), (42, 'Commonwealth Bank', 868.74, 694.99, 842.68, 73842.9), (43, 'Banco Bilbao Vizcaya Argentaria', 857.25, 685.8, 831.53, 72866.25), (44, 'Standard Chartered', 822.84, 658.27, 798.15, 69941.4), (45, 'La Banque postale', 815.91, 652.73, 791.43, 69352.35), (46, 'Ping An Bank', 787.93, 630.34, 764.29, 66974.05), (47, 'State Bank of India', 780.05, 624.04, 756.65, 66304.25), (48, 'ANZ Group', 769.59, 615.67, 746.5, 65415.15), (49, 'Canadian Imperial Bank of Commerce', 726.27, 581.02, 704.48, 61732.95), (50, 'DZ Bank', 712.49, 569.99, 691.12, 60561.65), (51, 'Norinchukin Bank', 702.03, 561.62, 680.97, 59672.55), (52, 'National Australia Bank', 683.41, 546.73, 662.91, 58089.85), (53, 'Rabobank', 678.45, 542.76, 658.1, 57668.25), (54, 'CaixaBank', 671.13, 536.9, 651.0, 57046.05), (55, 'Westpac', 664.5, 531.6, 644.56, 56482.5), (56, 'U.S. Bancorp', 663.49, 530.79, 643.59, 56396.65), (57, 'Nordea', 662.71, 530.17, 642.83, 56330.35), (58, 'Capital One', 629.99, 503.99, 611.09, 53549.15), (59, 'Sberbank of Russia', 581.88, 465.5, 564.42, 49459.8), (60, 'Commerzbank', 571.64, 457.31, 554.49, 48589.4), (61, 'Huaxia Bank', 562.58, 450.06, 545.7, 47819.3), (62, 'PNC Financial Services', 561.58, 449.26, 544.73, 47734.3), (63, 'DBS Group', 560.1, 448.08, 543.3, 47608.5), (64, 'Itaú Unibanco', 555.72, 444.58, 539.05, 47236.2), (65, 'KB Financial Group', 551.94, 441.55, 535.38, 46914.9), (66, 'Danske Bank', 542.81, 434.25, 526.53, 46138.85), (67, 'Truist Financial Corp', 535.35, 428.28, 519.29, 45504.75), (68, 'Shinhan Financial Group', 533.48, 426.78, 517.48, 45345.8), (69, 'Resona Holdings', 527.53, 422.02, 511.7, 44840.05), (70, 'Sumitomo Mitsui Trust Holdings', 520.34, 416.27, 504.73, 44228.9), (71, 'Bank of Beijing', 503.31, 402.65, 488.21, 42781.35), (72, 'China Guangfa Bank', 495.55, 396.44, 480.68, 42121.75), (73, 'Charles Schwab Corporation', 493.18, 394.54, 478.38, 41920.3), (74, 'HDFC Bank', 464.34, 371.47, 450.41, 39468.9), (75, 'Bank of Jiangsu', 457.25, 365.8, 443.53, 38866.25), (76, 'Hana Financial Group', 456.47, 365.18, 442.78, 38799.95), (77, 'Banco do Brasil', 447.72, 358.18, 434.29, 38056.2), (78, 'Nationwide Building Society', 446.95, 357.56, 433.54, 37990.75), (79, 'China Zheshang Bank', 443.37, 354.7, 430.07, 37686.45), (80, 'Oversea-Chinese Banking Corporation', 441.53, 353.22, 428.28, 37530.05), (81, 'Bank of Shanghai', 435.14, 348.11, 422.09, 36986.9), (82, 'ABN AMRO', 417.72, 334.18, 405.19, 35506.2), (83, 'BNY', 409.88, 327.9, 397.58, 34839.8), (84, 'United Overseas Bank', 396.62, 317.3, 384.72, 33712.7), (85, 'Banco Bradesco', 394.76, 315.81, 382.92, 33554.6), (86, 'Nonghyup Bank', 394.46, 315.57, 382.63, 33529.1), (87, 'Nomura Holdings', 388.42, 310.74, 376.77, 33015.7), (88, 'Woori Financial Group', 384.04, 307.23, 372.52, 32643.4), (89, 'KBC Group', 383.47, 306.78, 371.97, 32594.95), (90, 'Caixa Econômica Federal', 377.29, 301.83, 365.97, 32069.65), (91, 'Erste Group', 372.67, 298.14, 361.49, 31676.95), (92, 'Landesbank Baden-Württemberg', 368.41, 294.73, 357.36, 31314.85), (93, 'Bank of Ningbo', 365.96, 292.77, 354.98, 31106.6), (94, 'SEB Group', 358.79, 287.03, 348.03, 30497.15), (95, 'Raiffeisen Group', 352.87, 282.3, 342.28, 29993.95), (96, 'Handelsbanken', 351.79, 281.43, 341.24, 29902.15), (97, 'Industrial Bank of Korea', 345.81, 276.65, 335.44, 29393.85), (98, 'DNB', 339.21, 271.37, 329.03, 28832.85), (99, 'Qatar National Bank', 338.14, 270.51, 328.0, 28741.9), (100, 'VTB Bank', 326.85, 261.48, 317.04, 27782.25)]\n",
      "[(940.7405,)]\n",
      "[('Industrial and Commercial Bank of China',), ('Agricultural Bank of China',), ('China Construction Bank',), ('Bank of China',), ('JPMorgan Chase',)]\n"
     ]
    }
   ],
   "source": [
    "if __name__ == '__main__':\n",
    "    # url = 'https://web.archive.org/web/20230908091635/https://en.wikipedia.org/wiki/List_of_largest_banks'\n",
    "    url = 'https://en.wikipedia.org/wiki/List_of_largest_banks'\n",
    "    output_csv_path = './output/Largest_banks_data.csv'\n",
    "    database_name = './output/Banks.db'\n",
    "    table_name = 'Largest_banks'\n",
    "    \n",
    "    log_progress('Preliminaries complete. Initiating ETL process')\n",
    "\n",
    "    df = extract(url, 'By market capitalization')\n",
    "\n",
    "    transform(df, './input/exchange_rate.csv')\n",
    "\n",
    "    load_to_csv(df, output_csv_path)\n",
    "\n",
    "    with sqlite3.connect(database_name) as conn:\n",
    "        load_to_db(df, conn, table_name)\n",
    "\n",
    "        print(run_query('SELECT * FROM Largest_banks', conn))\n",
    "\n",
    "        print(run_query('SELECT AVG(MC_GBP_Billion) FROM Largest_banks', conn))\n",
    "\n",
    "        print(run_query('SELECT \"Bank name\" FROM Largest_banks LIMIT 5', conn))\n",
    "\n",
    "    # Perform analytics\n",
    "    # query = 'SELECT * FROM Largest_banks WHERE MC_GBP_Billion > 1000'\n",
    "    # analytics_result = perform_analytics(database_name, query)\n",
    "    # if analytics_result is not None:\n",
    "    #     print(analytics_result)\n",
    "    #     log_progress(\"Analytics performed successfully.\")"
   ]
  },
  {
   "cell_type": "code",
   "execution_count": null,
   "metadata": {},
   "outputs": [],
   "source": [
    "query = 'SELECT * FROM Largest_banks WHERE MC_GBP_Billion > 10 LIMIT 15;'\n",
    "output_csv_path = './output/Largest_banks_data.csv'\n",
    "database_name = './output/Banks.db'\n",
    "table_name = 'Largest_banks'\n",
    "analytics_result = perform_analytics(database_name, query)\n",
    "if analytics_result is not None:\n",
    "    print(analytics_result)\n",
    "    log_progress(\"Analytics performed successfully.\")"
   ]
  },
  {
   "cell_type": "code",
   "execution_count": null,
>>>>>>> Stashed changes
   "metadata": {},
   "outputs": [],
   "source": []
=======
>>>>>>> dev_branch
=======
>>>>>>> dev_branch
  }
 ],
 "metadata": {
  "kernelspec": {
   "display_name": "Yolo_solution",
   "language": "python",
   "name": "python3"
  },
  "language_info": {
   "codemirror_mode": {
    "name": "ipython",
    "version": 3
   },
   "file_extension": ".py",
   "mimetype": "text/x-python",
   "name": "python",
   "nbconvert_exporter": "python",
   "pygments_lexer": "ipython3",
   "version": "3.11.0"
  }
 },
 "nbformat": 4,
 "nbformat_minor": 4
}
